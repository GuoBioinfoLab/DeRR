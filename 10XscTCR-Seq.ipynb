{
 "cells": [
  {
   "cell_type": "markdown",
   "metadata": {},
   "source": [
    "# DeRR for 10X scTCR-Seq\n",
    "\n",
    "In tutorial, we will use the SRX16249628 in the PRJNA858872 dataset as an example to introduce the usage of DeRR.\n",
    "\n",
    "Assuming that we have already performed data analysis using CellRanger, the output results are located in ../2.Result/PRJNA858872/SRX16249628.\n",
    "\n",
    "The first step is to use the SplitVDJbam.py script to obtain the fastq files for each cell based on the output results of CellRanger, and making a Mainfest.tsv file as input for DeRR"
   ]
  },
  {
   "cell_type": "markdown",
   "metadata": {},
   "source": [
    "```Shell\n",
    "python SplitVDJbam.py ../2.Result/PRJNA858872/SRX16249628/all_contig.bam \\\n",
    "    --list ../2.Result/PRJNA858872/SRX16249628/cell_barcodes.json \\\n",
    "    --out ../2.Result/PRJNA858872/SRX16249628/fastq_split \\\n",
    "    --file Mainfest.tsv\n",
    "```"
   ]
  },
  {
   "cell_type": "markdown",
   "metadata": {},
   "source": [
    "Once we have obtained the Mainfest.tsv file, we can use DeRR for analysis. \n",
    "\n",
    "> Before running it, we need to ensure that `bwa` and `samtools` are accessible in the current environment. If they are not accessible (i.e., cannot be accessed using 'bwa' and 'samtools'), we need to modify the corresponding items in the `config.json` file."
   ]
  },
  {
   "cell_type": "markdown",
   "metadata": {},
   "source": [
    "```Shell\n",
    " python DeRR.py --inf Mainfest.tsv --out SRX16249628_TCRprofiling.tsv --threads 8\n",
    "```"
   ]
  },
  {
   "cell_type": "markdown",
   "metadata": {},
   "source": [
    "In this run, we used 8 threads and default parameters. The adjustable parameters of DeRR are shown in the example table below. These parameters typically accommodate most situations, but in specific cases (such as poor data quality), users can improve result accuracy (but will reduce the number of cell expressing dual-TCR) by increasing T, reducing M, and decreasing N. "
   ]
  },
  {
   "cell_type": "markdown",
   "metadata": {},
   "source": [
    "| Parameter name | Explanation                                                                                         | Default value |\n",
    "|----------------|-----------------------------------------------------------------------------------------------------|---------------|\n",
    "| k              | k-mer length in Network Flow                                                                         | 25            |\n",
    "| c              | Extended length in Network Flow                                                                      | 5             |\n",
    "| T              | Threshold for filtering out low-frequency TCRs                                                     | 90%           |\n",
    "| M              | Threshold for filtering out erroneous TCRs based on quantity. TCRs with frequency below 1/M will be removed | 100           |\n",
    "| N              | Threshold for filtering out erroneous TCRs based on sequence similarity. TCRs with edit distance less than L/N will be removed (L is sequence length) |      6        |"
   ]
  },
  {
   "cell_type": "markdown",
   "metadata": {},
   "source": [
    "The output of DeRR is a TSV file, which can be easily read and analyzed."
   ]
  },
  {
   "cell_type": "code",
   "execution_count": 3,
   "metadata": {},
   "outputs": [],
   "source": [
    "import pandas as pd\n",
    "result = pd.read_csv(\"SRX16249628_TCRprofiling\", sep = '\\t')"
   ]
  },
  {
   "cell_type": "code",
   "execution_count": 8,
   "metadata": {},
   "outputs": [
    {
     "data": {
      "text/html": [
       "<div>\n",
       "<style scoped>\n",
       "    .dataframe tbody tr th:only-of-type {\n",
       "        vertical-align: middle;\n",
       "    }\n",
       "\n",
       "    .dataframe tbody tr th {\n",
       "        vertical-align: top;\n",
       "    }\n",
       "\n",
       "    .dataframe thead th {\n",
       "        text-align: right;\n",
       "    }\n",
       "</style>\n",
       "<table border=\"1\" class=\"dataframe\">\n",
       "  <thead>\n",
       "    <tr style=\"text-align: right;\">\n",
       "      <th></th>\n",
       "      <th>v_call</th>\n",
       "      <th>j_call</th>\n",
       "      <th>junction_aa</th>\n",
       "      <th>junction</th>\n",
       "      <th>duplicate_count</th>\n",
       "      <th>locus</th>\n",
       "      <th>cell_id</th>\n",
       "      <th>productive</th>\n",
       "      <th>sequence_id</th>\n",
       "      <th>sequence</th>\n",
       "      <th>rev_comp</th>\n",
       "      <th>d_call</th>\n",
       "      <th>sequence_alignment</th>\n",
       "      <th>germline_alignment</th>\n",
       "      <th>v_cigar</th>\n",
       "      <th>d_cigar</th>\n",
       "      <th>j_cigar</th>\n",
       "    </tr>\n",
       "  </thead>\n",
       "  <tbody>\n",
       "    <tr>\n",
       "      <th>0</th>\n",
       "      <td>TRAV9-2*02</td>\n",
       "      <td>TRAJ54*01</td>\n",
       "      <td>CALSGEIQGAQKLVF</td>\n",
       "      <td>TGTGCTCTGAGTGGAGAAATTCAGGGAGCCCAGAAGCTGGTATTT</td>\n",
       "      <td>168</td>\n",
       "      <td>TRA</td>\n",
       "      <td>AAACCTGAGCGGCTTC-1</td>\n",
       "      <td>True</td>\n",
       "      <td>NaN</td>\n",
       "      <td>NaN</td>\n",
       "      <td>NaN</td>\n",
       "      <td>NaN</td>\n",
       "      <td>NaN</td>\n",
       "      <td>NaN</td>\n",
       "      <td>NaN</td>\n",
       "      <td>NaN</td>\n",
       "      <td>NaN</td>\n",
       "    </tr>\n",
       "    <tr>\n",
       "      <th>1</th>\n",
       "      <td>TRBV10-3*02</td>\n",
       "      <td>TRBJ2-3*01</td>\n",
       "      <td>CAIRATDFSTDTQYF</td>\n",
       "      <td>TGTGCCATCAGAGCGACAGACTTTAGCACAGATACGCAGTATTTT</td>\n",
       "      <td>129</td>\n",
       "      <td>TRB</td>\n",
       "      <td>AAACCTGAGCGGCTTC-1</td>\n",
       "      <td>True</td>\n",
       "      <td>NaN</td>\n",
       "      <td>NaN</td>\n",
       "      <td>NaN</td>\n",
       "      <td>NaN</td>\n",
       "      <td>NaN</td>\n",
       "      <td>NaN</td>\n",
       "      <td>NaN</td>\n",
       "      <td>NaN</td>\n",
       "      <td>NaN</td>\n",
       "    </tr>\n",
       "    <tr>\n",
       "      <th>2</th>\n",
       "      <td>TRBV10-3*02</td>\n",
       "      <td>TRBJ2-3*01</td>\n",
       "      <td>CAIADLTDTQYF</td>\n",
       "      <td>TGTGCCATCGCGGACCTGACAGATACGCAGTATTTT</td>\n",
       "      <td>97</td>\n",
       "      <td>TRB</td>\n",
       "      <td>AAACCTGAGCGGCTTC-1</td>\n",
       "      <td>True</td>\n",
       "      <td>NaN</td>\n",
       "      <td>NaN</td>\n",
       "      <td>NaN</td>\n",
       "      <td>NaN</td>\n",
       "      <td>NaN</td>\n",
       "      <td>NaN</td>\n",
       "      <td>NaN</td>\n",
       "      <td>NaN</td>\n",
       "      <td>NaN</td>\n",
       "    </tr>\n",
       "    <tr>\n",
       "      <th>3</th>\n",
       "      <td>TRAV38-2/DV8*01</td>\n",
       "      <td>TRAJ43*01</td>\n",
       "      <td>CAYRSADNDMRF</td>\n",
       "      <td>TGTGCTTATAGGAGCGCGGACAATGACATGCGCTTT</td>\n",
       "      <td>450</td>\n",
       "      <td>TRA</td>\n",
       "      <td>AAACCTGAGCTCCTCT-1</td>\n",
       "      <td>True</td>\n",
       "      <td>NaN</td>\n",
       "      <td>NaN</td>\n",
       "      <td>NaN</td>\n",
       "      <td>NaN</td>\n",
       "      <td>NaN</td>\n",
       "      <td>NaN</td>\n",
       "      <td>NaN</td>\n",
       "      <td>NaN</td>\n",
       "      <td>NaN</td>\n",
       "    </tr>\n",
       "    <tr>\n",
       "      <th>4</th>\n",
       "      <td>TRAV9-2*01</td>\n",
       "      <td>TRAJ57*01</td>\n",
       "      <td>CALSDPPRGGGSEKLVF</td>\n",
       "      <td>TGTGCTCTGAGTGACCCTCCCCGAGGGGGCGGATCTGAAAAGCTGG...</td>\n",
       "      <td>13</td>\n",
       "      <td>TRA</td>\n",
       "      <td>AAACCTGAGCTCCTCT-1</td>\n",
       "      <td>True</td>\n",
       "      <td>NaN</td>\n",
       "      <td>NaN</td>\n",
       "      <td>NaN</td>\n",
       "      <td>NaN</td>\n",
       "      <td>NaN</td>\n",
       "      <td>NaN</td>\n",
       "      <td>NaN</td>\n",
       "      <td>NaN</td>\n",
       "      <td>NaN</td>\n",
       "    </tr>\n",
       "  </tbody>\n",
       "</table>\n",
       "</div>"
      ],
      "text/plain": [
       "            v_call      j_call        junction_aa  \\\n",
       "0       TRAV9-2*02   TRAJ54*01    CALSGEIQGAQKLVF   \n",
       "1      TRBV10-3*02  TRBJ2-3*01    CAIRATDFSTDTQYF   \n",
       "2      TRBV10-3*02  TRBJ2-3*01       CAIADLTDTQYF   \n",
       "3  TRAV38-2/DV8*01   TRAJ43*01       CAYRSADNDMRF   \n",
       "4       TRAV9-2*01   TRAJ57*01  CALSDPPRGGGSEKLVF   \n",
       "\n",
       "                                            junction  duplicate_count locus  \\\n",
       "0      TGTGCTCTGAGTGGAGAAATTCAGGGAGCCCAGAAGCTGGTATTT              168   TRA   \n",
       "1      TGTGCCATCAGAGCGACAGACTTTAGCACAGATACGCAGTATTTT              129   TRB   \n",
       "2               TGTGCCATCGCGGACCTGACAGATACGCAGTATTTT               97   TRB   \n",
       "3               TGTGCTTATAGGAGCGCGGACAATGACATGCGCTTT              450   TRA   \n",
       "4  TGTGCTCTGAGTGACCCTCCCCGAGGGGGCGGATCTGAAAAGCTGG...               13   TRA   \n",
       "\n",
       "              cell_id  productive  sequence_id  sequence  rev_comp  d_call  \\\n",
       "0  AAACCTGAGCGGCTTC-1        True          NaN       NaN       NaN     NaN   \n",
       "1  AAACCTGAGCGGCTTC-1        True          NaN       NaN       NaN     NaN   \n",
       "2  AAACCTGAGCGGCTTC-1        True          NaN       NaN       NaN     NaN   \n",
       "3  AAACCTGAGCTCCTCT-1        True          NaN       NaN       NaN     NaN   \n",
       "4  AAACCTGAGCTCCTCT-1        True          NaN       NaN       NaN     NaN   \n",
       "\n",
       "   sequence_alignment  germline_alignment  v_cigar  d_cigar  j_cigar  \n",
       "0                 NaN                 NaN      NaN      NaN      NaN  \n",
       "1                 NaN                 NaN      NaN      NaN      NaN  \n",
       "2                 NaN                 NaN      NaN      NaN      NaN  \n",
       "3                 NaN                 NaN      NaN      NaN      NaN  \n",
       "4                 NaN                 NaN      NaN      NaN      NaN  "
      ]
     },
     "execution_count": 8,
     "metadata": {},
     "output_type": "execute_result"
    }
   ],
   "source": [
    "result.head()"
   ]
  },
  {
   "cell_type": "markdown",
   "metadata": {},
   "source": [
    "Then, we can obtain the TCR expression profile for each cell using the cell_id, and filter out the cells expressing dual-TCRs from it.\n",
    "\n",
    "It is worth noting that when DeRR calculates the TCR status for each cell, the TRA and TRB chains are analyzed separately. Therefore, for a single chain of a cell, there may be three possible situations (single, dual, multi). Here, we take the example of cells with dual TRA chains."
   ]
  },
  {
   "cell_type": "code",
   "execution_count": 9,
   "metadata": {},
   "outputs": [
    {
     "name": "stdout",
     "output_type": "stream",
     "text": [
      "621\n"
     ]
    }
   ],
   "source": [
    "dual_TRA = []\n",
    "for barcode, cell_tcr in result[ result.locus =='TRA' ].groupby('cell_id'):\n",
    "    if cell_tcr.shape[0] == 2:\n",
    "        dual_TRA.append(barcode)\n",
    "        \n",
    "print( len(dual_TRA) )"
   ]
  }
 ],
 "metadata": {
  "kernelspec": {
   "display_name": "py310",
   "language": "python",
   "name": "py310"
  },
  "language_info": {
   "codemirror_mode": {
    "name": "ipython",
    "version": 3
   },
   "file_extension": ".py",
   "mimetype": "text/x-python",
   "name": "python",
   "nbconvert_exporter": "python",
   "pygments_lexer": "ipython3",
   "version": "3.10.8"
  }
 },
 "nbformat": 4,
 "nbformat_minor": 4
}
